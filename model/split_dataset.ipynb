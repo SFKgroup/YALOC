{
 "cells": [
  {
   "cell_type": "markdown",
   "id": "430b8b4f",
   "metadata": {},
   "source": [
    "# 计算数据集的数量"
   ]
  },
  {
   "cell_type": "code",
   "execution_count": 6,
   "id": "14760f3a",
   "metadata": {},
   "outputs": [
    {
     "name": "stdout",
     "output_type": "stream",
     "text": [
      "数据集图像的数量: 2100\n"
     ]
    }
   ],
   "source": [
    "import glob\n",
    "images = glob.glob(\"./Images/*/*.tif\")\n",
    "assert len(images) == 2100\n",
    "print(f\"数据集图像的数量: {len(images)}\")"
   ]
  },
  {
   "cell_type": "markdown",
   "id": "4abdb821",
   "metadata": {},
   "source": [
    "# 将数据集划分为训练集和验证集"
   ]
  },
  {
   "cell_type": "code",
   "execution_count": 7,
   "id": "456c5c05",
   "metadata": {},
   "outputs": [
    {
     "ename": "NameError",
     "evalue": "name 'name' is not defined",
     "output_type": "error",
     "traceback": [
      "\u001b[1;31m---------------------------------------------------------------------------\u001b[0m",
      "\u001b[1;31mNameError\u001b[0m                                 Traceback (most recent call last)",
      "\u001b[1;32m~\\AppData\\Local\\Temp/ipykernel_17116/2083781458.py\u001b[0m in \u001b[0;36m<module>\u001b[1;34m\u001b[0m\n\u001b[0;32m     20\u001b[0m             \u001b[0msplit\u001b[0m \u001b[1;33m=\u001b[0m \u001b[1;34m\"val\"\u001b[0m\u001b[1;33m\u001b[0m\u001b[1;33m\u001b[0m\u001b[0m\n\u001b[0;32m     21\u001b[0m         \u001b[0msource_path\u001b[0m \u001b[1;33m=\u001b[0m \u001b[0mos\u001b[0m\u001b[1;33m.\u001b[0m\u001b[0mpath\u001b[0m\u001b[1;33m.\u001b[0m\u001b[0mjoin\u001b[0m\u001b[1;33m(\u001b[0m\u001b[0mdataset_dir\u001b[0m\u001b[1;33m,\u001b[0m \u001b[0mdir_name\u001b[0m\u001b[1;33m,\u001b[0m \u001b[0mimage\u001b[0m\u001b[1;33m)\u001b[0m\u001b[1;33m\u001b[0m\u001b[1;33m\u001b[0m\u001b[0m\n\u001b[1;32m---> 22\u001b[1;33m         \u001b[0mdist_path\u001b[0m \u001b[1;33m=\u001b[0m \u001b[0mos\u001b[0m\u001b[1;33m.\u001b[0m\u001b[0mpath\u001b[0m\u001b[1;33m.\u001b[0m\u001b[0mjoin\u001b[0m\u001b[1;33m(\u001b[0m\u001b[0msplit\u001b[0m\u001b[1;33m,\u001b[0m \u001b[0mname\u001b[0m\u001b[1;33m,\u001b[0m \u001b[0mimage\u001b[0m\u001b[1;33m)\u001b[0m\u001b[1;33m\u001b[0m\u001b[1;33m\u001b[0m\u001b[0m\n\u001b[0m\u001b[0;32m     23\u001b[0m         \u001b[0mshutil\u001b[0m\u001b[1;33m.\u001b[0m\u001b[0mcopyfile\u001b[0m\u001b[1;33m(\u001b[0m\u001b[0msource_path\u001b[0m\u001b[1;33m,\u001b[0m \u001b[0mdist_path\u001b[0m\u001b[1;33m)\u001b[0m\u001b[1;33m\u001b[0m\u001b[1;33m\u001b[0m\u001b[0m\n",
      "\u001b[1;31mNameError\u001b[0m: name 'name' is not defined"
     ]
    }
   ],
   "source": [
    "import os\n",
    "import shutil\n",
    "\n",
    "# 训练集的占比\n",
    "train_percent = 0.8\n",
    "# 数据集的目录\n",
    "dataset_dir = \"./Images\"\n",
    "# 获取类别的名称\n",
    "dir_names = sorted(os.listdir(dataset_dir))\n",
    "splits = [\"train\", \"val\"]\n",
    "for split in splits:\n",
    "    for dir_name in dir_names:\n",
    "        os.makedirs(os.path.join(split, dir_name), exist_ok=True)\n",
    "for dir_name in dir_names:\n",
    "    images = os.listdir(os.path.join(dataset_dir, dir_name))\n",
    "    for index, image in enumerate(images):\n",
    "        if index < len(images) * train_percent:\n",
    "            split = \"train\"\n",
    "        else:\n",
    "            split = \"val\"\n",
    "        source_path = os.path.join(dataset_dir, dir_name, image)\n",
    "        dist_path = os.path.join(split, dir_name, image)\n",
    "        shutil.copyfile(source_path, dist_path)"
   ]
  },
  {
   "cell_type": "code",
   "execution_count": null,
   "id": "5709c3c1",
   "metadata": {},
   "outputs": [],
   "source": []
  }
 ],
 "metadata": {
  "kernelspec": {
   "display_name": "Python 3 (ipykernel)",
   "language": "python",
   "name": "python3"
  },
  "language_info": {
   "codemirror_mode": {
    "name": "ipython",
    "version": 3
   },
   "file_extension": ".py",
   "mimetype": "text/x-python",
   "name": "python",
   "nbconvert_exporter": "python",
   "pygments_lexer": "ipython3",
   "version": "3.7.10"
  }
 },
 "nbformat": 4,
 "nbformat_minor": 5
}
